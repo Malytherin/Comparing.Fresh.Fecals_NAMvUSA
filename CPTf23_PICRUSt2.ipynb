{
 "cells": [
  {
   "cell_type": "markdown",
   "id": "f5ab1f6a-964f-48cd-9d21-46dda772b4c2",
   "metadata": {},
   "source": [
    "Code for PICRUSt2: Combined fresh fecal samples from NAM and USA analyses 2023\n",
    "\n",
    "Files needed for pirust2:\n",
    "\n",
    "1. feature table \n",
    "    - ASVs as ROWS and samples as COLUMNS (Make sure sample names match from metadata (USA 1, USA 2, NAM 1, etc). \n",
    "    - First column header has to be OTUID (even if use ASVs)\n",
    "2. FASTA of sequences for all the ASVs (does not need to be filtered for sequences only found in samples)\n",
    "\n",
    "###Write in DNA sequences CPTf23_DNAseqs <- readDNAStringSet(\"/Users/morganmaly/OneDrive - Smithsonian Institution/CheetahGutMicrobiome/COMBINED_PoopTrials/CPTf_2023_fresh_data/CPTf_2023_DNAsequences.fasta\")"
   ]
  },
  {
   "cell_type": "code",
   "execution_count": 3,
   "id": "172dc579-70c1-4708-86a3-d98fd90e6750",
   "metadata": {},
   "outputs": [
    {
     "name": "stdout",
     "output_type": "stream",
     "text": [
      "\n",
      "CommandNotFoundError: Your shell has not been properly configured to use 'conda activate'.\n",
      "To initialize your shell, run\n",
      "\n",
      "    $ conda init <SHELL_NAME>\n",
      "\n",
      "Currently supported shells are:\n",
      "  - bash\n",
      "  - fish\n",
      "  - tcsh\n",
      "  - xonsh\n",
      "  - zsh\n",
      "  - powershell\n",
      "\n",
      "See 'conda init --help' for more information and options.\n",
      "\n",
      "IMPORTANT: You may need to close and restart your shell after running 'conda init'.\n",
      "\n",
      "\n"
     ]
    }
   ],
   "source": [
    "conda activate picrust2"
   ]
  },
  {
   "cell_type": "markdown",
   "id": "9e28b9b5-064f-41a0-8511-8d305989327a",
   "metadata": {},
   "source": [
    "Change directory to where Picrust files are:"
   ]
  },
  {
   "cell_type": "code",
   "execution_count": null,
   "id": "1ef4f0fd-0e37-4729-b61c-0a662a1dc4ea",
   "metadata": {},
   "outputs": [],
   "source": [
    "cd OneDrive\\ -\\ Smithsonian\\ Institution/CheetahGutMicrobiome/COMBINED_PoopTrials/CPTf_2023_fresh_data/CPTf23_PICRUSt2"
   ]
  },
  {
   "cell_type": "markdown",
   "id": "455606d3-c9b4-4a9c-aa14-302207f63af7",
   "metadata": {},
   "source": [
    "Check to make sure the ASV sequences (FASTA) and feature table (ASV abundances) are in the directory"
   ]
  },
  {
   "cell_type": "code",
   "execution_count": null,
   "id": "281727ea-3d80-4bca-adb3-7f5ed412ad0f",
   "metadata": {},
   "outputs": [],
   "source": [
    "ls"
   ]
  },
  {
   "cell_type": "markdown",
   "id": "ce1c259a-b4c2-45a9-8f56-3576fc92c9b9",
   "metadata": {},
   "source": [
    "Run PICRUSt2 pipeline"
   ]
  },
  {
   "cell_type": "code",
   "execution_count": null,
   "id": "8a26accf-2c1a-4dd4-9b68-6c84dad11e29",
   "metadata": {},
   "outputs": [],
   "source": [
    "picrust2_pipeline.py -s CPTf_2023_DNAsequences.fasta -i CPTf_PICRUSt_featuretable.tsv -o picrust2_out_CPTf2023 --stratified --coverage --per_sequence_contrib -p 1"
   ]
  },
  {
   "cell_type": "markdown",
   "id": "0b71894c-39d5-418e-84a7-ef002b95e630",
   "metadata": {},
   "source": [
    "Dec 2023 run: \n",
    "\"Warning - 4 input sequences aligned poorly to reference sequences (--min_align option specified a minimum proportion of 0.8 aligning to reference sequences). These input sequences will not be placed and will be excluded from downstream steps.\n",
    "\n",
    "This is the set of poorly aligned input sequences to be excluded: ASV707, ASV660, ASV710, ASV693\"\n",
    "\n",
    "\"1 of 757 ASVs were above the max NSTI cut-off of 2.0 and were removed from the downstream analyses.\n",
    "\n",
    " 1 of 757 ASVs were above the max NSTI cut-off of 2.0 and were removed from the downstream analyses.\""
   ]
  },
  {
   "cell_type": "markdown",
   "id": "6d619824-96c2-434c-a190-65ab0c8b0b6e",
   "metadata": {},
   "source": [
    "Change directory to folder with output files"
   ]
  },
  {
   "cell_type": "code",
   "execution_count": null,
   "id": "e9dd6390-2410-4f92-95e7-69b3ef957921",
   "metadata": {},
   "outputs": [],
   "source": [
    " cd picrust2_out_CPTf2023"
   ]
  },
  {
   "cell_type": "markdown",
   "id": "2b836949-bdcf-41bc-8a3c-268c9e942c3e",
   "metadata": {},
   "source": [
    "Add EC database pathway descriptions"
   ]
  },
  {
   "cell_type": "code",
   "execution_count": null,
   "id": "67650566-6e42-4cdc-9588-16d31d1c428c",
   "metadata": {},
   "outputs": [],
   "source": [
    "add_descriptions.py -i EC_metagenome_out/pred_metagenome_unstrat.tsv.gz -m EC -o EC_metagenome_out/EC_CPTf_pred_metagenome_unstrat_descrip.tsv.gz "
   ]
  },
  {
   "cell_type": "markdown",
   "id": "a21e5a87-e41c-4f2a-9a4a-ba724f52f8c7",
   "metadata": {},
   "source": [
    "Add KO database pathway descriptions"
   ]
  },
  {
   "cell_type": "code",
   "execution_count": null,
   "id": "11d0cf56-c7eb-4c25-9a0d-f8f309ccca03",
   "metadata": {},
   "outputs": [],
   "source": [
    "add_descriptions.py -i KO_metagenome_out/pred_metagenome_unstrat.tsv.gz -m KO -o KO_metagenome_out/KO_CPTf_pred_metagenome_unstrat_descrip.tsv.gz"
   ]
  },
  {
   "cell_type": "markdown",
   "id": "b4c7d026-cee6-48e5-b1ad-0b1c7c01018b",
   "metadata": {},
   "source": [
    "Add Metacyc database pathway descriptions"
   ]
  },
  {
   "cell_type": "code",
   "execution_count": null,
   "id": "91803dd2-d616-4b4f-a043-326a5fc77245",
   "metadata": {},
   "outputs": [],
   "source": [
    "add_descriptions.py -i pathways_out/path_abun_unstrat.tsv.gz -m METACYC -o pathways_out/Metacyc_CPTf_path_abun_unstrat_descrip.tsv.gz"
   ]
  },
  {
   "cell_type": "markdown",
   "id": "1ae5a16f-af64-4410-87a2-e06d3bec634c",
   "metadata": {},
   "source": [
    "Download KEGG_pathways_to_KO.tsv and KEGG_pathways_info.tsv files from the default files and add to output directory folder (https://github.com/picrust/picrust2/tree/master/picrust2/default_files)."
   ]
  },
  {
   "cell_type": "markdown",
   "id": "126758c7-7d2f-4efb-9c56-fc027db8c61d",
   "metadata": {},
   "source": [
    "Run pathway_pipeline.py command with KEGG_pathways_to_KO.tsv file."
   ]
  },
  {
   "cell_type": "code",
   "execution_count": null,
   "id": "6e7414d7-4ac7-4283-af04-520c2436ccec",
   "metadata": {},
   "outputs": [],
   "source": [
    "pathway_pipeline.py -i KO_metagenome_out/pred_metagenome_unstrat.tsv.gz -o KEGG_pathways_out_CPTf --no_regroup --coverage --per_sequence_contrib --per_sequence_abun KO_metagenome_out/seqtab_norm.tsv.gz --per_sequence_function KO_predicted.tsv.gz --map KEGG_pathways_to_KO.tsv"
   ]
  },
  {
   "cell_type": "markdown",
   "id": "b882e538-8aab-4cdc-98ed-61be11e7a086",
   "metadata": {},
   "source": [
    "Add descriptions to pathways."
   ]
  },
  {
   "cell_type": "code",
   "execution_count": null,
   "id": "870bb314-8694-4d80-a2db-067398befebc",
   "metadata": {},
   "outputs": [],
   "source": [
    "add_descriptions.py -i KEGG_pathways_out_CPTf/path_abun_unstrat.tsv.gz --custom_map_table KEGG_pathways_info.tsv -o KEGG_pathways_out_CPTf/KO_CPTf_path_abun_unstrat_descrip.tsv.gz"
   ]
  },
  {
   "cell_type": "markdown",
   "id": "503a5f3e-8014-490d-b9b5-78f69944baec",
   "metadata": {},
   "source": [
    "# Now aggregate higher levels using Classification Hierarchy file.\n",
    "    - see \"CPTf23_Picrust2_categorize_by_function.Rmd\" in this Aju_CPTf_2023 GitHub repository"
   ]
  }
 ],
 "metadata": {
  "kernelspec": {
   "display_name": "Bash",
   "language": "bash",
   "name": "bash"
  },
  "language_info": {
   "codemirror_mode": "shell",
   "file_extension": ".sh",
   "mimetype": "text/x-sh",
   "name": "bash"
  }
 },
 "nbformat": 4,
 "nbformat_minor": 5
}
